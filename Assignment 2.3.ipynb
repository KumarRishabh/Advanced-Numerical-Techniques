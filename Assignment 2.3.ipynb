{
 "cells": [
  {
   "cell_type": "code",
   "execution_count": 21,
   "metadata": {},
   "outputs": [],
   "source": [
    "import pandas as pd\n",
    "import numpy as np \n",
    "import matplotlib.pyplot as plt "
   ]
  },
  {
   "cell_type": "code",
   "execution_count": 22,
   "metadata": {},
   "outputs": [],
   "source": [
    "def A(x):\n",
    "    return 0\n",
    "def B(x, lamda):\n",
    "    return -lamda*x\n",
    "def C(x):\n",
    "    return 0\n",
    "\n",
    "def get_a(x, h):\n",
    "    return 1/(h**2) - A(x)/(2.0 * h)\n",
    "def get_b(x, h, lamda):\n",
    "    return - 2/(h**2) + B(x, lamda)\n",
    "def get_c(x, h):\n",
    "    return 1/(h**2) + A(x)/(2.0 * h)"
   ]
  },
  {
   "cell_type": "code",
   "execution_count": 23,
   "metadata": {},
   "outputs": [],
   "source": [
    "def ThomasAlgorithm(a, b, c, d, n):\n",
    "    c_dash = np.zeros(n-1)\n",
    "    d_dash = np.zeros(n-1)\n",
    "    c_dash[0] = c[0] / b[0]\n",
    "    d_dash[0] = d[0] / b[0]\n",
    "    for itr in range(1, n-1):\n",
    "        c_dash[itr] = c[itr] / (b[itr] - a[itr] * c_dash[itr-1])\n",
    "        d_dash[itr] = (d[itr] - a[itr]*d_dash[itr-1]) / (b[itr] - a[itr] * c_dash[itr-1])\n",
    "    \n",
    "    y = np.zeros(n-1)\n",
    "    y[n-2] = d_dash[n-2]\n",
    "    \n",
    "    for itr in reversed(range(n-2)):\n",
    "        y[itr] = d_dash[itr] - c_dash[itr] * y[itr+1]\n",
    "    \n",
    "    return y"
   ]
  },
  {
   "cell_type": "code",
   "execution_count": 24,
   "metadata": {},
   "outputs": [],
   "source": [
    "def TridiagonalBVP(x0, xn, h, n, lamda):\n",
    "    x = [(x0 + itr * h) for itr in range(1, n)]\n",
    "    #print x[n-1]\n",
    "    a = [get_a(itr, h) for itr in x]\n",
    "    b = [get_b(itr, h, lamda) for itr in x]\n",
    "    c = [get_c(itr, h) for itr in x]\n",
    "    d = [C(itr) for itr in x]\n",
    "\n",
    "# \tb[0] += 4 / (2*h + 3) * a[0]\n",
    "# \tc[0] += (-1) / (2*h + 3) * a[0]\n",
    "    d[0] += 1*a[0]\n",
    "\n",
    "    b[n-2] += 4 / (3 - 4*h) * c[n-2]\n",
    "    a[n-2] += (-1) / (3 - 4*h) * c[n-2]\n",
    "#     d[n-2] += (2*h) / (3 - 4*h) * c[n-2]\n",
    "\n",
    "    return ThomasAlgorithm(a, b, c, d, n)\n",
    "\n",
    "def func(x0, xn, h = 0.1):\n",
    "    return np.arange(x0, xn + h, h)"
   ]
  },
  {
   "cell_type": "code",
   "execution_count": 28,
   "metadata": {},
   "outputs": [
    {
     "name": "stdout",
     "output_type": "stream",
     "text": [
      "[0.   0.25 0.5  0.75 1.  ]\n",
      "4\n",
      "[-0.5248703577247865, -0.041539616110123245, 0.4430892385079814]\n",
      "[-0.5879833756540065, -0.5248703577247865, -0.041539616110123245, 0.4430892385079814]\n",
      "[-0.5879833756540065, -0.5248703577247865, -0.041539616110123245, 0.4430892385079814, 0.6569482850710244]\n"
     ]
    },
    {
     "data": {
      "image/png": "[encoded data removed]",
      "text/plain": [
       "<Figure size 432x288 with 1 Axes>"
      ]
     },
     "metadata": {
      "needs_background": "light"
     },
     "output_type": "display_data"
    }
   ],
   "source": [
    "x0 = 0.0\n",
    "xn = 1.0\n",
    "steps = [0.25]\n",
    "f = lambda xn, x0, step : int(np.ceil((xn-x0)/step))\n",
    "colors = ['r']\n",
    "lamda = -1\n",
    "# Creating vector that stores the steps\n",
    "for step in steps:\n",
    "    y = []\n",
    "    x_range = func(x0, xn, step)\n",
    "    print(x_range)\n",
    "    n = int(np.ceil((xn - x0)/step))\n",
    "    print(n)\n",
    "    y[1:n] = TridiagonalBVP(x0, xn, step, n, lamda)\n",
    "    print(y)\n",
    "    y.insert(0, 4 / (2*step + 3) * y[0] - 1 / (2*step + 3) * y[1])\n",
    "    print(y)\n",
    "    y.append((4 * y[n-1] - y[n-2] - 2*step) / (3 - 4*step))\n",
    "    print(y)\n",
    "    plt.xlabel('X')\n",
    "    plt.ylabel('Y')\n",
    "    i = steps.index(step)\n",
    "    plt.plot( x_range, y, colors[i])\n",
    "    \n",
    "def sinx(x0, xn, h = 0.02):\n",
    "    x = func(x0, xn, h)\n",
    "    y = np.sin(func(x0, xn, h))\n",
    "    plt.plot(x, y, 'o')\n",
    "\n",
    "sinx(x0, xn)"
   ]
  },
  {
   "cell_type": "code",
   "execution_count": null,
   "metadata": {},
   "outputs": [],
   "source": []
  }
 ],
 "metadata": {
  "kernelspec": {
   "display_name": "Python 3",
   "language": "python",
   "name": "python3"
  },
  "language_info": {
   "codemirror_mode": {
    "name": "ipython",
    "version": 3
   },
   "file_extension": ".py",
   "mimetype": "text/x-python",
   "name": "python",
   "nbconvert_exporter": "python",
   "pygments_lexer": "ipython3",
   "version": "3.6.7"
  }
 },
 "nbformat": 4,
 "nbformat_minor": 2
}
