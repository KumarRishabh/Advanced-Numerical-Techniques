{
 "cells": [
  {
   "cell_type": "markdown",
   "metadata": {},
   "source": [
    " y'' - (y')^2 - y^2 + y + 1 = 0 "
   ]
  },
  {
   "cell_type": "code",
   "execution_count": 1,
   "metadata": {},
   "outputs": [],
   "source": [
    "import matplotlib.pyplot as plt\n",
    "import numpy as np\n",
    "%matplotlib inline"
   ]
  },
  {
   "cell_type": "code",
   "execution_count": null,
   "metadata": {},
   "outputs": [],
   "source": [
    "def get_a(x, h):\n",
    "\treturn 1/(h**2) - 1/(4.0 * h**2)\n",
    "def get_b(x, h):\n",
    "\treturn - 2/(h**2) + B(x)\n",
    "def get_c(x, h):\n",
    "\treturn 1/(h**2) + A(x)/(2.0 * h)"
   ]
  },
  {
   "cell_type": "code",
   "execution_count": 2,
   "metadata": {},
   "outputs": [],
   "source": [
    "epsilon = 0.00001\n",
    "def ThomasAlgorith(a, b, c, d, n):\n",
    "    c_dash = np.zeros(n-1)\n",
    "    d_dash = np.zeros(n-1)\n",
    "    c_dash[0] = c[0] / b[0]\n",
    "    d_dash[0] = d[0] / b[0]\n",
    "    for itr in range(1, n-1):\n",
    "        c_dash[itr] = c[itr] / (b[itr] - a[itr] * c_dash[itr-1])\n",
    "        d_dash[itr] = (d[itr] - a[itr]*d_dash[itr-1]) / (b[itr] - a[itr] * c_dash[itr-1])\n",
    "    \n",
    "    y = np.zeros(n-1)\n",
    "    y[n-2] = d_dash[n-2]\n",
    "    \n",
    "    for itr in reversed(range(n-2)):\n",
    "        y[itr] = d_dash[itr] - c_dash[itr] * y[itr+1]\n",
    "    \n",
    "    return y\n",
    "\n"
   ]
  },
  {
   "cell_type": "code",
   "execution_count": 12,
   "metadata": {},
   "outputs": [
    {
     "name": "stdout",
     "output_type": "stream",
     "text": [
      "[ 0.5         0.49750208  0.49003329  0.47766824  0.4605305   0.43879128\n",
      "  0.41266781  0.38242109  0.34835335  0.31080498  0.27015115  0.22679806\n",
      "  0.18117888  0.13374941  0.08498357  0.0353686  -0.01459976 -0.06442225\n",
      " -0.11360105 -0.16164478 -0.20807342 -0.25242305 -0.29425056 -0.33313801\n",
      " -0.36869686 -0.40057181 -0.42844438 -0.45203607 -0.47111117 -0.48547908\n",
      " -0.49499625 -0.49956758]\n"
     ]
    }
   ],
   "source": [
    "x0 = 0\n",
    "xn = np.pi\n",
    "y0 = 0.5 \n",
    "yn = -0.5\n",
    "def func(x0, xn, h = 0.1):\n",
    "    return np.arange(x0, xn, h)\n",
    "\n",
    "def BVP(x0, xn, y0, yn, step, epsilon = 0.0001):\n",
    "    '''Keeping the initialization y = 0.5cos(x) '''\n",
    "    x = func(x0, xn, step)\n",
    "    y = 0.5*(np.cos(func(x0, xn, step)))\n",
    "    a = []\n",
    "    b = []\n",
    "    c = []\n",
    "    for i in range(x.shape[0]):\n",
    "        temp = 1/\n",
    "    \n",
    "    \n",
    "    return y\n",
    "\n",
    "y = BVP(x0, xn, y0, yn, step=0.1, epsilon = 0.0001)\n"
   ]
  },
  {
   "cell_type": "code",
   "execution_count": null,
   "metadata": {},
   "outputs": [],
   "source": []
  }
 ],
 "metadata": {
  "kernelspec": {
   "display_name": "Python 3",
   "language": "python",
   "name": "python3"
  },
  "language_info": {
   "codemirror_mode": {
    "name": "ipython",
    "version": 3
   },
   "file_extension": ".py",
   "mimetype": "text/x-python",
   "name": "python",
   "nbconvert_exporter": "python",
   "pygments_lexer": "ipython3",
   "version": "3.6.7"
  }
 },
 "nbformat": 4,
 "nbformat_minor": 2
}
