{
 "cells": [
  {
   "cell_type": "markdown",
   "metadata": {},
   "source": [
    " Solve the ODE below by newton-linearization scheme\n",
    " \n",
    " $y'' - (y')^2 - y^2 + y + 1 = 0 $ \n",
    " \n",
    " "
   ]
  },
  {
   "cell_type": "code",
   "execution_count": 10,
   "metadata": {},
   "outputs": [],
   "source": [
    "import matplotlib.pyplot as plt\n",
    "import numpy as np\n",
    "%matplotlib inline"
   ]
  },
  {
   "cell_type": "code",
   "execution_count": 11,
   "metadata": {},
   "outputs": [],
   "source": [
    "def get_a(x, h):\n",
    "\treturn 1/(h**2) - 1/(4.0 * h**2)\n",
    "def get_b(x, h):\n",
    "\treturn - 2/(h**2) + B(x)\n",
    "def get_c(x, h):\n",
    "\treturn 1/(h**2) + A(x)/(2.0 * h)"
   ]
  },
  {
   "cell_type": "code",
   "execution_count": 31,
   "metadata": {},
   "outputs": [],
   "source": [
    "epsilon = 0.00001\n",
    "def ThomasAlgorithm(a, b, c, d, n):\n",
    "    c_dash = np.zeros(n-1)\n",
    "    d_dash = np.zeros(n-1)\n",
    "    c_dash[0] = c[0]/b[0]\n",
    "    d_dash[0] = d[0]/b[0]\n",
    "    for itr in range(1, n-1):\n",
    "        c_dash[itr] = c[itr] / (b[itr] - a[itr] * c_dash[itr-1])\n",
    "        d_dash[itr] = (d[itr] - a[itr]*d_dash[itr-1]) / (b[itr] - a[itr] * c_dash[itr-1])\n",
    "    \n",
    "    y = np.zeros(n-1)\n",
    "    y[n-2] = d_dash[n-2]\n",
    "    \n",
    "    for itr in reversed(range(n-2)):\n",
    "        y[itr] = d_dash[itr] - c_dash[itr] * y[itr+1]\n",
    "    \n",
    "    return y\n",
    "\n"
   ]
  },
  {
   "cell_type": "code",
   "execution_count": 80,
   "metadata": {},
   "outputs": [
    {
     "name": "stdout",
     "output_type": "stream",
     "text": [
      "(13,)\n",
      "[0.         0.33319054 0.58007885 0.75742395 0.87395769 0.93351094\n",
      " 0.93741431 0.88649761 0.78283604 0.63125892 0.44053549 0.22408171\n",
      " 0.        ]\n",
      "[ 0.         -0.06162596 -0.07420484 -0.06612572 -0.05558024 -0.05139496\n",
      " -0.05579502 -0.06688231 -0.08008643 -0.08874711 -0.08443496 -0.0577271\n",
      "  0.        ]\n",
      "[ 0.          0.008355    0.00732728 -0.00050049 -0.01138921 -0.02296598\n",
      " -0.03370756 -0.04187522 -0.04508127 -0.04094917 -0.02886114 -0.01222735\n",
      "  0.        ]\n",
      "[ 0.         -0.00298061 -0.00531484 -0.0077773  -0.01104119 -0.01502912\n",
      " -0.01878245 -0.02081236 -0.01983168 -0.01563006 -0.00955246 -0.00389096\n",
      "  0.        ]\n",
      "[ 0.          0.00012486 -0.00044948 -0.00181704 -0.00382811 -0.00605013\n",
      " -0.00780591 -0.00841712 -0.00758695 -0.0056361  -0.00332146 -0.00133434\n",
      "  0.        ]\n",
      "[ 0.5         0.69373051  0.84077031  0.9312034   0.95878562  0.92140409\n",
      "  0.82132338  0.66517727  0.46358304  0.23029648 -0.01896787 -0.2677647\n",
      " -0.5       ]\n"
     ]
    }
   ],
   "source": [
    "x0 = 0\n",
    "xn = np.pi\n",
    "y0 = 0.5 \n",
    "yn = -0.5\n",
    "def func(x0, xn, h = 0.1):\n",
    "    lst = np.arange(x0, xn, h)\n",
    "#     lst = np.append(lst, xn)\n",
    "    return lst\n",
    "\n",
    "def BVP(x0, xn, y0, yn, step, epsilon = 0.0001):\n",
    "    '''Keeping the initialization y = 0.5cos(x) '''\n",
    "    x = func(x0, xn, step)\n",
    "#     y = 0.5*(np.cos(func(x0, xn, step)))\n",
    "    y = np.linspace(y0, yn, x.shape[0])\n",
    "    print(y.shape)\n",
    "    a = [1/step**2 - 2*(y[i+1] - y[i-1])/(4*step**2)for i in range(1, len(y)-1)]\n",
    "    b = [-2/step**2 + -2*y[i] + 1 for i in range(1, len(y)-1)]\n",
    "    c = [1/step**2 + 2*(y[i+1] - y[i-1]) for i in range(1, len(y) -1)]\n",
    "    d = [-(y[i]**2 - y[i] - 1 + (y[i+1] -y[i-1])**2/(4*step**2) - (y[i-1] - 2*y[i] + y[i+1])/(step**2)) for i in range(1, len(y)-1)]\n",
    "    delta_y = np.ones(y.shape)\n",
    "    while(np.amax(np.absolute(delta_y))>epsilon):\n",
    "        a = [1/step**2 + 2*(y[i+1] - y[i-1])/(4*step**2)for i in range(1, len(y)-1)]\n",
    "        b = [-2/step**2 + -2*y[i] + 1 for i in range(1, len(y)-1)]\n",
    "        c = [1/step**2 - 2*(y[i+1] - y[i-1]) for i in range(1, len(y) -1)]\n",
    "        d = [y[i]**2 - y[i] - 1 + (y[i+1] -y[i-1])**2/(4*step**2) - (y[i-1] - 2*y[i] + y[i+1])/(step**2) for i in range(1, len(y)-1)]\n",
    "        delta_y = ThomasAlgorithm(a, b, c, d, len(y)-1)\n",
    "        delta_y = np.insert(delta_y, 0, 0)\n",
    "        delta_y = np.append(delta_y, 0)\n",
    "        print(delta_y)\n",
    "        y = y + delta_y\n",
    "        \n",
    "    return y\n",
    "\n",
    "y_new = BVP(x0, xn, y0, yn, step=0.25, epsilon = 0.01)\n",
    "print(y_new)\n",
    "# "
   ]
  },
  {
   "cell_type": "code",
   "execution_count": 81,
   "metadata": {},
   "outputs": [
    {
     "data": {
      "text/plain": [
       "[<matplotlib.lines.Line2D at 0x115d90898>]"
      ]
     },
     "execution_count": 81,
     "metadata": {},
     "output_type": "execute_result"
    },
    {
     "data": {
      "image/png": "[encoded data removed]",
      "text/plain": [
       "<Figure size 432x288 with 1 Axes>"
      ]
     },
     "metadata": {
      "needs_background": "light"
     },
     "output_type": "display_data"
    }
   ],
   "source": [
    "x = func(x0, xn, 0.25)\n",
    "plt.xlabel('X')\n",
    "plt.ylabel('Y')\n",
    "plt.plot(x, y_new, '-')"
   ]
  },
  {
   "cell_type": "code",
   "execution_count": null,
   "metadata": {},
   "outputs": [],
   "source": []
  }
 ],
 "metadata": {
  "kernelspec": {
   "display_name": "Python 3",
   "language": "python",
   "name": "python3"
  },
  "language_info": {
   "codemirror_mode": {
    "name": "ipython",
    "version": 3
   },
   "file_extension": ".py",
   "mimetype": "text/x-python",
   "name": "python",
   "nbconvert_exporter": "python",
   "pygments_lexer": "ipython3",
   "version": "3.6.7"
  }
 },
 "nbformat": 4,
 "nbformat_minor": 2
}
