{
 "cells": [
  {
   "cell_type": "markdown",
   "metadata": {},
   "source": [
    "Solve the ODE for the given conditions \n",
    "$$y'' = 2 + y^2$$\n",
    "For the conditions \n",
    "$$y(0) = 0 = y(1) $$"
   ]
  },
  {
   "cell_type": "code",
   "execution_count": 1,
   "metadata": {},
   "outputs": [],
   "source": [
    "import matplotlib.pyplot as plt\n",
    "import numpy as np\n",
    "%matplotlib inline"
   ]
  },
  {
   "cell_type": "code",
   "execution_count": 2,
   "metadata": {},
   "outputs": [],
   "source": [
    "def ThomasAlgorithm(a, b, c, d, n):\n",
    "    c_dash = np.zeros(n-1)\n",
    "    d_dash = np.zeros(n-1)\n",
    "    c_dash[0] = c[0]/b[0]\n",
    "    d_dash[0] = d[0]/b[0]\n",
    "    for itr in range(1, n-1):\n",
    "        c_dash[itr] = c[itr] / (b[itr] - a[itr] * c_dash[itr-1])\n",
    "        d_dash[itr] = (d[itr] - a[itr]*d_dash[itr-1]) / (b[itr] - a[itr] * c_dash[itr-1])\n",
    "    \n",
    "    y = np.zeros(n-1)\n",
    "    y[n-2] = d_dash[n-2]\n",
    "    \n",
    "    for itr in reversed(range(n-2)):\n",
    "        y[itr] = d_dash[itr] - c_dash[itr] * y[itr+1]\n",
    "    \n",
    "    return y\n",
    "\n"
   ]
  },
  {
   "cell_type": "code",
   "execution_count": 11,
   "metadata": {},
   "outputs": [],
   "source": [
    "x0 = 0\n",
    "xn = 1\n",
    "y0 = 0 \n",
    "yn = 1\n",
    "def func(x0, xn, h = 0.1):\n",
    "    lst = np.arange(x0, xn, h)\n",
    "    lst = np.append(lst, xn)\n",
    "    return lst"
   ]
  },
  {
   "cell_type": "code",
   "execution_count": 29,
   "metadata": {},
   "outputs": [],
   "source": [
    "def BVP(x0, xn, y0, yn, step, epsilon = 0.0001):\n",
    "    '''Keeping the initialization y = 0.5cos(x) '''\n",
    "    x = func(x0, xn, step)\n",
    "    y = x - x**2\n",
    "    print(y)\n",
    "#     y = np.zeros(x.shape[0])\n",
    "# #     y[0] = 0.5\n",
    "#     y[-1] = -0.5\n",
    "#     a = [1/step**2 - 2*(y[i+1] - y[i-1])/(4*step**2)for i in range(1, len(y)-1)]\n",
    "#     b = [-2/step**2 + -2*y[i] + 1 for i in range(1, len(y)-1)]\n",
    "#     c = [1/step**2 + 2*(y[i+1] - y[i-1]) for i in range(1, len(y) -1)]\n",
    "#     d = [-(y[i]**2 - y[i] - 1 + (y[i+1] -y[i-1])**2/(4*step**2) - (y[i-1] - 2*y[i] + y[i+1])/(step**2)) for i in range(1, len(y)-1)]\n",
    "    delta_y = np.ones(y.shape)\n",
    "    while(np.amax(np.absolute(delta_y))>epsilon):\n",
    "        a = [1/step**2 for i in range(1, len(y)-1)]\n",
    "        b = [-2*y[i] - 2/step**2 for i in range(1, len(y)-1)]\n",
    "        c = [1/step**2 for i in range(1, len(y) -1)]\n",
    "        d = [2 +y[i]**2  -(y[i-1] - 2*y[i] + y[i+1])/(step**2) for i in range(1, len(y)-1)]\n",
    "        delta_y = ThomasAlgorithm(a, b, c, d, len(y)-1)\n",
    "        delta_y = np.insert(delta_y, 0, 0)\n",
    "        delta_y = np.append(delta_y, 0)\n",
    "        print(delta_y)\n",
    "        y = y + delta_y\n",
    "        \n",
    "    return y\n"
   ]
  },
  {
   "cell_type": "code",
   "execution_count": 30,
   "metadata": {},
   "outputs": [
    {
     "name": "stdout",
     "output_type": "stream",
     "text": [
      "[0.     0.0196 0.0384 0.0564 0.0736 0.09   0.1056 0.1204 0.1344 0.1476\n",
      " 0.16   0.1716 0.1824 0.1924 0.2016 0.21   0.2176 0.2244 0.2304 0.2356\n",
      " 0.24   0.2436 0.2464 0.2484 0.2496 0.25   0.2496 0.2484 0.2464 0.2436\n",
      " 0.24   0.2356 0.2304 0.2244 0.2176 0.21   0.2016 0.1924 0.1824 0.1716\n",
      " 0.16   0.1476 0.1344 0.1204 0.1056 0.09   0.0736 0.0564 0.0384 0.0196\n",
      " 0.    ]\n",
      "[ 0.         -0.03824182 -0.07488408 -0.10992806 -0.14337572 -0.17522966\n",
      " -0.20549297 -0.23416918 -0.26126215 -0.28677599 -0.31071497 -0.33308349\n",
      " -0.35388595 -0.37312674 -0.39081016 -0.40694035 -0.42152127 -0.43455662\n",
      " -0.44604985 -0.45600406 -0.46442201 -0.47130609 -0.47665828 -0.48048015\n",
      " -0.48277281 -0.48353696 -0.48277281 -0.48048015 -0.47665828 -0.47130609\n",
      " -0.46442201 -0.45600406 -0.44604985 -0.43455662 -0.42152127 -0.40694035\n",
      " -0.39081016 -0.37312674 -0.35388595 -0.33308349 -0.31071497 -0.28677599\n",
      " -0.26126215 -0.23416918 -0.20549297 -0.17522966 -0.14337572 -0.10992806\n",
      " -0.07488408 -0.03824182  0.        ]\n",
      "[ 0.         -0.00130437 -0.00260814 -0.00390958 -0.00520603 -0.00649396\n",
      " -0.00776917 -0.00902686 -0.0102618  -0.0114684  -0.01264082 -0.0137731\n",
      " -0.01485923 -0.01589322 -0.01686922 -0.01778158 -0.01862489 -0.0193941\n",
      " -0.02008451 -0.02069187 -0.0212124  -0.02164285 -0.02198051 -0.02222324\n",
      " -0.02236949 -0.02241835 -0.02236949 -0.02222324 -0.02198051 -0.02164285\n",
      " -0.0212124  -0.02069187 -0.02008451 -0.0193941  -0.01862489 -0.01778158\n",
      " -0.01686922 -0.01589322 -0.01485923 -0.0137731  -0.01264082 -0.0114684\n",
      " -0.0102618  -0.00902686 -0.00776917 -0.00649396 -0.00520603 -0.00390958\n",
      " -0.00260814 -0.00130437  0.        ]\n",
      "[ 0.00000000e+00 -2.55544394e-06 -5.11016655e-06 -7.66200839e-06\n",
      " -1.02073842e-05 -1.27413067e-05 -1.52574256e-05 -1.77480863e-05\n",
      " -2.02044099e-05 -2.26163952e-05 -2.49730452e-05 -2.72625154e-05\n",
      " -2.94722839e-05 -3.15893402e-05 -3.36003898e-05 -3.54920717e-05\n",
      " -3.72511831e-05 -3.88649077e-05 -4.03210427e-05 -4.16082187e-05\n",
      " -4.27161080e-05 -4.36356170e-05 -4.43590563e-05 -4.48802872e-05\n",
      " -4.51948387e-05 -4.52999931e-05 -4.51948387e-05 -4.48802872e-05\n",
      " -4.43590563e-05 -4.36356170e-05 -4.27161080e-05 -4.16082187e-05\n",
      " -4.03210427e-05 -3.88649077e-05 -3.72511831e-05 -3.54920717e-05\n",
      " -3.36003898e-05 -3.15893402e-05 -2.94722839e-05 -2.72625154e-05\n",
      " -2.49730452e-05 -2.26163952e-05 -2.02044099e-05 -1.77480863e-05\n",
      " -1.52574256e-05 -1.27413067e-05 -1.02073842e-05 -7.66200839e-06\n",
      " -5.11016655e-06 -2.55544394e-06  0.00000000e+00]\n",
      "[ 0.         -0.01994874 -0.03909733 -0.0574453  -0.07499195 -0.09173636\n",
      " -0.1076774  -0.1228138  -0.13714416 -0.15066701 -0.16338077 -0.17528385\n",
      " -0.18637465 -0.19665155 -0.20611298 -0.21475742 -0.22258341 -0.22958959\n",
      " -0.23577468 -0.24113753 -0.24567713 -0.24939258 -0.25228315 -0.25434827\n",
      " -0.2555875  -0.25600061 -0.2555875  -0.25434827 -0.25228315 -0.24939258\n",
      " -0.24567713 -0.24113753 -0.23577468 -0.22958959 -0.22258341 -0.21475742\n",
      " -0.20611298 -0.19665155 -0.18637465 -0.17528385 -0.16338077 -0.15066701\n",
      " -0.13714416 -0.1228138  -0.1076774  -0.09173636 -0.07499195 -0.0574453\n",
      " -0.03909733 -0.01994874  0.        ]\n"
     ]
    }
   ],
   "source": [
    "y_new = BVP(x0, xn, y0, yn, step=0.02, epsilon = 0.0001)\n",
    "print(y_new)"
   ]
  },
  {
   "cell_type": "code",
   "execution_count": 31,
   "metadata": {},
   "outputs": [
    {
     "data": {
      "text/plain": [
       "[<matplotlib.lines.Line2D at 0x112561eb8>]"
      ]
     },
     "execution_count": 31,
     "metadata": {},
     "output_type": "execute_result"
    },
    {
     "data": {
      "image/png": "[encoded data removed]",
      "text/plain": [
       "<Figure size 432x288 with 1 Axes>"
      ]
     },
     "metadata": {
      "needs_background": "light"
     },
     "output_type": "display_data"
    }
   ],
   "source": [
    "x = func(x0, xn, 0.02)\n",
    "plt.xlabel('X')\n",
    "plt.ylabel('Y')\n",
    "plt.plot(x, y_new, '-')"
   ]
  },
  {
   "cell_type": "code",
   "execution_count": null,
   "metadata": {},
   "outputs": [],
   "source": []
  }
 ],
 "metadata": {
  "kernelspec": {
   "display_name": "Python 3",
   "language": "python",
   "name": "python3"
  },
  "language_info": {
   "codemirror_mode": {
    "name": "ipython",
    "version": 3
   },
   "file_extension": ".py",
   "mimetype": "text/x-python",
   "name": "python",
   "nbconvert_exporter": "python",
   "pygments_lexer": "ipython3",
   "version": "3.6.7"
  }
 },
 "nbformat": 4,
 "nbformat_minor": 2
}
