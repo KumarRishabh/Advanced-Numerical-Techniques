{
 "cells": [
  {
   "cell_type": "code",
   "execution_count": 9,
   "metadata": {},
   "outputs": [],
   "source": [
    "import numpy as np \n",
    "from matplotlib import pyplot as plt \n",
    "from mpl_toolkits import mplot3d\n",
    "from copy import copy\n",
    "\n",
    "%matplotlib inline\n",
    "plt.rcParams['figure.figsize'] = [10, 10]"
   ]
  },
  {
   "cell_type": "markdown",
   "metadata": {},
   "source": [
    "### Non Linear upwind scheme\n",
    "The PDE to be solved is \n",
    "$$ u_{t} + uu_{x} = \\nu u_{xx} \\\\\n",
    "   u(x, 0) = x \\\\ u(0, t) = 0 \\\\ u(1, t) = 1$$\n",
    "   Here the value of $\\nu = 0.5$\n",
    "   \n",
    "Using Quasi-Linear Discretization, we get \n",
    "\n",
    "$$ {u^{(n+1)^{(k+1)}} - u^{n}_{j} \\over \\partial(t)} + \\frac{1}{2}( u^{n}_{j}(\\frac{u^n_{j+1} - u^{n}_{j-1}}{\\partial{x}} ) +  u^{(n+1)^{(k+1)}}_{j}(\\frac{u^{(n+1)^{(k+1)}}_{j+1} - u^{(n+1)^{(k+1)}}_{j-1}}{\\partial{x}} ) ) = \\frac{\\nu}{2}\\big[\\frac{u^{(n+1)^{(k+1)}}_{j+1} - 2u^{(n+1)^{(k+1)}}_{j} + u^{(n+1)^{(k+1)}}_{j-1}}{\\partial{x}^2} + \\frac{u^n_{j+1} - 2u^n_{j} + u^{n}_{j-1}}{\\partial{x}^2}\\big]$$\n",
    "\n",
    "Converting it in the form of  \n",
    "$$ U^{{n+1}^{k+1}}_{j} = U^{{n+1}^{k}}_{j} + \\Delta U ^{n+1}_{j}\\\\ A_i \\Delta U ^{n+1}_{j-1} + B_i \\Delta U ^{n+1}_{j} + C_i \\Delta U ^{n+1}_{j+1} = D_i$$\n",
    "  Take $$ c = {\\partial{t} \\over 2\\partial{x}} \\\\\n",
    "          r = \\nu \\frac{\\partial{t}}{2\\partial{x}^2}$$"
   ]
  },
  {
   "cell_type": "code",
   "execution_count": 128,
   "metadata": {},
   "outputs": [],
   "source": [
    "def ThomasAlgorithm(a, b, c, d, n):\n",
    "    c_dash = np.zeros(n-1)\n",
    "    d_dash = np.zeros(n-1)\n",
    "    c_dash[0] = c[0]/b[0]\n",
    "    d_dash[0] = d[0]/b[0]\n",
    "    for itr in range(1, n-1):\n",
    "        c_dash[itr] = c[itr] / (b[itr] - a[itr] * c_dash[itr-1])\n",
    "        d_dash[itr] = (d[itr] - a[itr]*d_dash[itr-1]) / (b[itr] - a[itr] * c_dash[itr-1])\n",
    "    \n",
    "    y = np.zeros(n-1)\n",
    "    y[n-2] = d_dash[n-2]\n",
    "    \n",
    "    for itr in reversed(range(n-2)):\n",
    "        y[itr] = d_dash[itr] - c_dash[itr] * y[itr+1]\n",
    "    \n",
    "    return y"
   ]
  },
  {
   "cell_type": "code",
   "execution_count": 129,
   "metadata": {},
   "outputs": [],
   "source": [
    "def A(u, u_prev, r, c, i):\n",
    "    temp = r + c*u[i]\n",
    "    return temp\n",
    "def B(u, u_prev, r, c, j):\n",
    "    temp = c*(u[j-1] - u[j+1]) - 2*r\n",
    "    return temp\n",
    "def C(u, u_prev, r, c, i):\n",
    "    temp = r - c*(u[i])\n",
    "    return temp\n",
    "def D(u, u_prev, r, c, j):\n",
    "    term1 = u[j] - u_prev[j]\n",
    "    term2 = c*(u_prev[j]*(u_prev[j+1] - u_prev[j-1]) + u[j]*(u[j+1] - u[j-1]))\n",
    "    term3 = r*(u[j+1] - 2*u[j] + u[j-1] +  u_prev[j+1] - 2*u_prev[j] + u_prev[j-1])\n",
    "    temp = term1 + term2 - term3\n",
    "    return temp "
   ]
  },
  {
   "cell_type": "code",
   "execution_count": 136,
   "metadata": {},
   "outputs": [],
   "source": [
    "def initialize(x0, xn, steps):\n",
    "    u = np.linspace(x0, xn, steps + 1)\n",
    "    return u\n",
    "\n",
    "def Solver(x0, xn, space_steps, t_steps, r, const, epsilon):\n",
    "    u = initialize(x0, xn, space_steps)\n",
    "    Solution = np.array([[]])\n",
    "    Solution = np.append(Solution, np.reshape(u, (1, u.shape[0])), axis = 1)\n",
    "    delta_u = np.zeros(u.shape[0])\n",
    "    for i in range(t_steps):\n",
    "        flag = 1\n",
    "        u_prev = np.copy(u)\n",
    "        count = 0 \n",
    "        while(np.amax(delta_u) > epsilon or flag ==1 or count==100):\n",
    "            if (flag == 1):\n",
    "                flag = 0\n",
    "                \n",
    "            else:\n",
    "                u = u + delta_u\n",
    "            a = [A(u, u_prev, r, const, i) for i in range(space_steps-1)]\n",
    "            b = [B(u, u_prev, r, const, i) for i in range(space_steps-1)]\n",
    "            c = [C(u, u_prev, r, const, i) for i in range(space_steps-1)]\n",
    "            d = [D(u, u_prev, r, const, i) for i in range(space_steps-1)]\n",
    "            delta_u[1: -1] = ThomasAlgorithm(a, b, c, d, space_steps)\n",
    "            count+=1\n",
    "        \n",
    "        temp = np.reshape(u, (1, u.shape[0]))\n",
    "        Solution = np.append(Solution, temp, axis=0)\n",
    "    return Solution"
   ]
  },
  {
   "cell_type": "code",
   "execution_count": 137,
   "metadata": {},
   "outputs": [],
   "source": [
    "x0 = 0 \n",
    "xn = 1\n",
    "space_steps = 10\n",
    "time_steps = 20\n",
    "nu = 0.5\n",
    "r = nu*(space_steps**2/time_steps)/2\n",
    "const = space_steps/(2*time_steps)"
   ]
  },
  {
   "cell_type": "code",
   "execution_count": 138,
   "metadata": {},
   "outputs": [
    {
     "ename": "KeyboardInterrupt",
     "evalue": "",
     "output_type": "error",
     "traceback": [
      "\u001b[0;31m---------------------------------------------------------------------------\u001b[0m",
      "\u001b[0;31mKeyboardInterrupt\u001b[0m                         Traceback (most recent call last)",
      "\u001b[0;32m<ipython-input-138-f3ba96dfd6d9>\u001b[0m in \u001b[0;36m<module>\u001b[0;34m\u001b[0m\n\u001b[0;32m----> 1\u001b[0;31m \u001b[0mSolution\u001b[0m \u001b[0;34m=\u001b[0m \u001b[0mSolver\u001b[0m\u001b[0;34m(\u001b[0m\u001b[0mx0\u001b[0m\u001b[0;34m,\u001b[0m \u001b[0mxn\u001b[0m\u001b[0;34m,\u001b[0m \u001b[0mspace_steps\u001b[0m\u001b[0;34m,\u001b[0m \u001b[0mtime_steps\u001b[0m\u001b[0;34m,\u001b[0m \u001b[0mr\u001b[0m\u001b[0;34m,\u001b[0m \u001b[0mconst\u001b[0m\u001b[0;34m,\u001b[0m \u001b[0mepsilon\u001b[0m \u001b[0;34m=\u001b[0m \u001b[0;36m0.01\u001b[0m\u001b[0;34m)\u001b[0m\u001b[0;34m\u001b[0m\u001b[0;34m\u001b[0m\u001b[0m\n\u001b[0m\u001b[1;32m      2\u001b[0m \u001b[0mprint\u001b[0m\u001b[0;34m(\u001b[0m\u001b[0mSolution\u001b[0m\u001b[0;34m)\u001b[0m\u001b[0;34m\u001b[0m\u001b[0;34m\u001b[0m\u001b[0m\n\u001b[1;32m      3\u001b[0m \u001b[0mx\u001b[0m \u001b[0;34m=\u001b[0m \u001b[0mnp\u001b[0m\u001b[0;34m.\u001b[0m\u001b[0mlinspace\u001b[0m\u001b[0;34m(\u001b[0m\u001b[0mx0\u001b[0m\u001b[0;34m,\u001b[0m \u001b[0mxn\u001b[0m\u001b[0;34m,\u001b[0m \u001b[0mnum\u001b[0m\u001b[0;34m=\u001b[0m\u001b[0mspace_steps\u001b[0m\u001b[0;34m+\u001b[0m\u001b[0;36m1\u001b[0m\u001b[0;34m)\u001b[0m\u001b[0;34m\u001b[0m\u001b[0;34m\u001b[0m\u001b[0m\n\u001b[1;32m      4\u001b[0m \u001b[0;32mfor\u001b[0m \u001b[0mi\u001b[0m \u001b[0;32min\u001b[0m \u001b[0mrange\u001b[0m\u001b[0;34m(\u001b[0m\u001b[0mSolution\u001b[0m\u001b[0;34m.\u001b[0m\u001b[0mshape\u001b[0m\u001b[0;34m[\u001b[0m\u001b[0;36m0\u001b[0m\u001b[0;34m]\u001b[0m\u001b[0;34m)\u001b[0m\u001b[0;34m:\u001b[0m\u001b[0;34m\u001b[0m\u001b[0;34m\u001b[0m\u001b[0m\n\u001b[1;32m      5\u001b[0m       \u001b[0mplt\u001b[0m\u001b[0;34m.\u001b[0m\u001b[0mplot\u001b[0m\u001b[0;34m(\u001b[0m\u001b[0mx\u001b[0m\u001b[0;34m,\u001b[0m \u001b[0mSolution\u001b[0m\u001b[0;34m[\u001b[0m\u001b[0mi\u001b[0m\u001b[0;34m]\u001b[0m\u001b[0;34m)\u001b[0m\u001b[0;34m\u001b[0m\u001b[0;34m\u001b[0m\u001b[0m\n",
      "\u001b[0;32m<ipython-input-136-16479541938b>\u001b[0m in \u001b[0;36mSolver\u001b[0;34m(x0, xn, space_steps, t_steps, r, const, epsilon)\u001b[0m\n\u001b[1;32m     17\u001b[0m \u001b[0;34m\u001b[0m\u001b[0m\n\u001b[1;32m     18\u001b[0m             \u001b[0;32melse\u001b[0m\u001b[0;34m:\u001b[0m\u001b[0;34m\u001b[0m\u001b[0;34m\u001b[0m\u001b[0m\n\u001b[0;32m---> 19\u001b[0;31m                 \u001b[0mu\u001b[0m \u001b[0;34m=\u001b[0m \u001b[0mu\u001b[0m \u001b[0;34m+\u001b[0m \u001b[0mdelta_u\u001b[0m\u001b[0;34m\u001b[0m\u001b[0;34m\u001b[0m\u001b[0m\n\u001b[0m\u001b[1;32m     20\u001b[0m             \u001b[0ma\u001b[0m \u001b[0;34m=\u001b[0m \u001b[0;34m[\u001b[0m\u001b[0mA\u001b[0m\u001b[0;34m(\u001b[0m\u001b[0mu\u001b[0m\u001b[0;34m,\u001b[0m \u001b[0mu_prev\u001b[0m\u001b[0;34m,\u001b[0m \u001b[0mr\u001b[0m\u001b[0;34m,\u001b[0m \u001b[0mconst\u001b[0m\u001b[0;34m,\u001b[0m \u001b[0mi\u001b[0m\u001b[0;34m)\u001b[0m \u001b[0;32mfor\u001b[0m \u001b[0mi\u001b[0m \u001b[0;32min\u001b[0m \u001b[0mrange\u001b[0m\u001b[0;34m(\u001b[0m\u001b[0mspace_steps\u001b[0m\u001b[0;34m-\u001b[0m\u001b[0;36m1\u001b[0m\u001b[0;34m)\u001b[0m\u001b[0;34m]\u001b[0m\u001b[0;34m\u001b[0m\u001b[0;34m\u001b[0m\u001b[0m\n\u001b[1;32m     21\u001b[0m             \u001b[0mb\u001b[0m \u001b[0;34m=\u001b[0m \u001b[0;34m[\u001b[0m\u001b[0mB\u001b[0m\u001b[0;34m(\u001b[0m\u001b[0mu\u001b[0m\u001b[0;34m,\u001b[0m \u001b[0mu_prev\u001b[0m\u001b[0;34m,\u001b[0m \u001b[0mr\u001b[0m\u001b[0;34m,\u001b[0m \u001b[0mconst\u001b[0m\u001b[0;34m,\u001b[0m \u001b[0mi\u001b[0m\u001b[0;34m)\u001b[0m \u001b[0;32mfor\u001b[0m \u001b[0mi\u001b[0m \u001b[0;32min\u001b[0m \u001b[0mrange\u001b[0m\u001b[0;34m(\u001b[0m\u001b[0mspace_steps\u001b[0m\u001b[0;34m-\u001b[0m\u001b[0;36m1\u001b[0m\u001b[0;34m)\u001b[0m\u001b[0;34m]\u001b[0m\u001b[0;34m\u001b[0m\u001b[0;34m\u001b[0m\u001b[0m\n",
      "\u001b[0;31mKeyboardInterrupt\u001b[0m: "
     ]
    }
   ],
   "source": [
    "Solution = Solver(x0, xn, space_steps, time_steps, r, const, epsilon = 0.01)\n",
    "print(Solution)\n",
    "x = np.linspace(x0, xn, num=space_steps+1)\n",
    "for i in range(Solution.shape[0]):\n",
    "      plt.plot(x, Solution[i])\n",
    "plt.show()\n",
    "plt.savefig(\"Plot.png\")"
   ]
  },
  {
   "cell_type": "code",
   "execution_count": null,
   "metadata": {},
   "outputs": [],
   "source": []
  }
 ],
 "metadata": {
  "kernelspec": {
   "display_name": "Python 3",
   "language": "python",
   "name": "python3"
  },
  "language_info": {
   "codemirror_mode": {
    "name": "ipython",
    "version": 3
   },
   "file_extension": ".py",
   "mimetype": "text/x-python",
   "name": "python",
   "nbconvert_exporter": "python",
   "pygments_lexer": "ipython3",
   "version": "3.6.7"
  }
 },
 "nbformat": 4,
 "nbformat_minor": 2
}
