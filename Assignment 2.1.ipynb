{
 "cells": [
  {
   "cell_type": "markdown",
   "metadata": {},
   "source": [
    "This is the code for equation $$y'' - 2xy' - 2y= -4x$$\n",
    "\n",
    "Boundary conditions are\n",
    "\n",
    "$$y(0) - y'(0) = 0$$\n",
    "\n",
    "$$2y(1) - y'(1) = 1$$"
   ]
  },
  {
   "cell_type": "code",
   "execution_count": 2,
   "metadata": {},
   "outputs": [],
   "source": [
    "import pandas as pd\n",
    "import numpy as np \n",
    "import matplotlib.pyplot as plt \n",
    "%matplotlib inline\n",
    "plt.rcParams['figure.figsize'] = [10, 15]"
   ]
  },
  {
   "cell_type": "code",
   "execution_count": 3,
   "metadata": {},
   "outputs": [],
   "source": [
    "def A(x):\n",
    "\treturn -2 * x\n",
    "def B(x):\n",
    "\treturn -2\n",
    "def C(x):\n",
    "\treturn -4 * x\n",
    "\n",
    "def get_a(x, h):\n",
    "\treturn 1/(h**2) - A(x)/(2.0 * h)\n",
    "def get_b(x, h):\n",
    "\treturn - 2/(h**2) + B(x)\n",
    "def get_c(x, h):\n",
    "\treturn 1/(h**2) + A(x)/(2.0 * h)"
   ]
  },
  {
   "cell_type": "code",
   "execution_count": 7,
   "metadata": {},
   "outputs": [],
   "source": [
    "def ThomasAlgorithm(a, b, c, d, n):\n",
    "    c_dash = np.zeros(n-1)\n",
    "    d_dash = np.zeros(n-1)\n",
    "    c_dash[0] = c[0] / b[0]\n",
    "    d_dash[0] = d[0] / b[0]\n",
    "    for itr in range(1, n-1):\n",
    "        c_dash[itr] = c[itr] / (b[itr] - a[itr] * c_dash[itr-1])\n",
    "        d_dash[itr] = (d[itr] - a[itr]*d_dash[itr-1]) / (b[itr] - a[itr] * c_dash[itr-1])\n",
    "    \n",
    "    y = np.zeros(n-1)\n",
    "    y[n-2] = d_dash[n-2]\n",
    "    \n",
    "    for itr in reversed(range(n-2)):\n",
    "        y[itr] = d_dash[itr] - c_dash[itr] * y[itr+1]\n",
    "    \n",
    "    return y"
   ]
  },
  {
   "cell_type": "code",
   "execution_count": 8,
   "metadata": {},
   "outputs": [],
   "source": [
    "def TridiagonalBVP(x0, xn, h, n):\n",
    "\tx = [(x0 + itr * h) for itr in range(1, n)]\n",
    "\t#print x[n-1]\n",
    "\ta = [get_a(itr, h) for itr in x]\n",
    "\tb = [get_b(itr, h) for itr in x]\n",
    "\tc = [get_c(itr, h) for itr in x]\n",
    "\td = [C(itr) for itr in x]\n",
    "\t\n",
    "\tb[0] += 4 / (2*h + 3) * a[0]\n",
    "\tc[0] += (-1) / (2*h + 3) * a[0]\n",
    "\n",
    "\tb[n-2] += 4 / (3 - 4*h) * c[n-2]\n",
    "\ta[n-2] += (-1) / (3 - 4*h) * c[n-2]\n",
    "\td[n-2] += (2*h) / (3 - 4*h) * c[n-2]\n",
    "\n",
    "\treturn ThomasAlgorithm(a, b, c, d, n)\n",
    "\n",
    "def func(x0, xn, h = 0.1):\n",
    "    return np.arange(x0, xn + h, h)"
   ]
  },
  {
   "cell_type": "code",
   "execution_count": 9,
   "metadata": {},
   "outputs": [
    {
     "data": {
      "image/png": "[encoded data removed]",
      "text/plain": [
       "<Figure size 432x288 with 1 Axes>"
      ]
     },
     "metadata": {
      "needs_background": "light"
     },
     "output_type": "display_data"
    }
   ],
   "source": [
    "x0 = 0.0\n",
    "xn = 1.0\n",
    "steps = [0.1, 0.05, 0.01]\n",
    "f = lambda xn, x0, step : int(np.ceil((xn-x0)/step))\n",
    "colors = ['r', 'g', 'b']\n",
    "labels = [\"step = 0.1\", \"step = 0.05\", \"step = 0.01\"]\n",
    "# Creating vector that stores the steps\n",
    "for step in steps:\n",
    "    y = []\n",
    "    x_range = func(x0, xn, step)\n",
    "#     print(x_range)\n",
    "    n = int(np.ceil((xn - x0)/step))\n",
    "#     print(n)\n",
    "    y[1:n] = TridiagonalBVP(x0, xn, step, n)\n",
    "#     print(y)\n",
    "    y.insert(0, 4 / (2*step + 3) * y[0] - 1 / (2*step + 3) * y[1])\n",
    "#     print(y)\n",
    "    y.append((4 * y[n-1] - y[n-2] - 2*step) / (3 - 4*step))\n",
    "#     print(y)\n",
    "    plt.xlabel('X')\n",
    "    plt.ylabel('Y')\n",
    "    i = steps.index(step)\n",
    "    plt.plot( x_range, y, colors[i], label=labels[i])\n",
    "    plt.gca().legend(labels)\n",
    "\n",
    "    "
   ]
  }
 ],
 "metadata": {
  "kernelspec": {
   "display_name": "Python 3",
   "language": "python",
   "name": "python3"
  },
  "language_info": {
   "codemirror_mode": {
    "name": "ipython",
    "version": 3
   },
   "file_extension": ".py",
   "mimetype": "text/x-python",
   "name": "python",
   "nbconvert_exporter": "python",
   "pygments_lexer": "ipython3",
   "version": "3.6.7"
  }
 },
 "nbformat": 4,
 "nbformat_minor": 2
}
