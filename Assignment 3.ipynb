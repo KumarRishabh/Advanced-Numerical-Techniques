{
 "cells": [
  {
   "cell_type": "markdown",
   "metadata": {},
   "source": [
    "y''' + 4y\" + y' - 6y = 1\n",
    "y(0) = y'(0) = 0\n",
    "y'(1) = 1"
   ]
  },
  {
   "cell_type": "code",
   "execution_count": 22,
   "metadata": {},
   "outputs": [],
   "source": [
    "import matplotlib.pyplot as plt\n",
    "import numpy as np\n",
    "%matplotlib inline\n",
    "plt.rcParams['figure.figsize'] = [10, 15]"
   ]
  },
  {
   "cell_type": "code",
   "execution_count": 23,
   "metadata": {},
   "outputs": [],
   "source": [
    "def BlockTridiagonal(A, B, C, D):\n",
    "    n = len(D)\n",
    "    _B = np.zeros(A.shape)\n",
    "    _C = np.zeros(A.shape)\n",
    "    _D = np.zeros((n,2,1))\n",
    "    \n",
    "    _C[0] = np.linalg.inv(B[0]).dot(C[0])\n",
    "    _D[0] = np.linalg.inv(B[0]).dot(D[0])\n",
    "    \n",
    "    for i in range(1, n):\n",
    "        _B[i] = B[i] - A[i].dot(_C[i-1])\n",
    "        _C[i] = np.linalg.inv(_B[i]) .dot(C[i])\n",
    "        _D[i] = np.linalg.inv(_B[i]).dot(D[i] - A[i].dot(_D[i-1]))\n",
    "    \n",
    "    _D[i] = \n",
    "    for i in range(n-2, -1, -1):\n",
    "        _D[i] = _D[i] - _C[i].dot(_D[i+1])\n",
    "    \n",
    "    return _D"
   ]
  },
  {
   "cell_type": "code",
   "execution_count": 47,
   "metadata": {},
   "outputs": [],
   "source": [
    "def BVP(x0, xn, h):\n",
    "    n = int(np.ceil((xn - x0)/h))\n",
    "\n",
    "    A = np.zeros((n-1, 2, 2))\n",
    "    B = np.zeros((n-1, 2, 2))\n",
    "    C = np.zeros((n-1, 2, 2))\n",
    "    D = np.zeros((n-1, 2, 1))\n",
    "    for i in range(n-1):\n",
    "        A[i] = np.array([[-1, -h/2], [0, 1/h**2 - 2/h]])\n",
    "        B[i] = np.array([[1, -h/2], [-6, -2/h**2 + 1]])\n",
    "        C[i] = np.array([[0, 0], [0, 1/h**2 + 2/h]])\n",
    "        D[i] = np.array([[0], [1]])\n",
    "    \n",
    "    D[n-2] = D[n-2] - np.array([[0], [1/h**2 + 2/h]])\n",
    "    X = BlockTridiagonal(A, B, C, D)\n",
    "    y = X[:, 0]\n",
    "    print(y)\n",
    "    y = np.reshape(y, n-1)\n",
    "    y.append((1/h - 1/h**2 + 4/h - 3*X[1, n-1]/h**2)/6)\n",
    "#     print(A)\n",
    "#     print(B)\n",
    "#     print(C)\n",
    "#     print(D)\n",
    "    return y\n"
   ]
  },
  {
   "cell_type": "code",
   "execution_count": 48,
   "metadata": {},
   "outputs": [
    {
     "name": "stdout",
     "output_type": "stream",
     "text": [
      "(10,)\n",
      "[[0.01224889]\n",
      " [0.04525781]\n",
      " [0.09280878]\n",
      " [0.15083668]\n",
      " [0.2168081 ]\n",
      " [0.28927787]\n",
      " [0.3675745 ]\n",
      " [0.45157872]\n",
      " [0.54156916]]\n"
     ]
    },
    {
     "ename": "AttributeError",
     "evalue": "'numpy.ndarray' object has no attribute 'append'",
     "output_type": "error",
     "traceback": [
      "\u001b[0;31m---------------------------------------------------------------------------\u001b[0m",
      "\u001b[0;31mAttributeError\u001b[0m                            Traceback (most recent call last)",
      "\u001b[0;32m<ipython-input-48-f7b3d3de8ff8>\u001b[0m in \u001b[0;36m<module>\u001b[0;34m\u001b[0m\n\u001b[1;32m      8\u001b[0m     \u001b[0mx_range\u001b[0m \u001b[0;34m=\u001b[0m \u001b[0mfunc\u001b[0m\u001b[0;34m(\u001b[0m\u001b[0mx0\u001b[0m\u001b[0;34m,\u001b[0m \u001b[0mxn\u001b[0m\u001b[0;34m,\u001b[0m \u001b[0mstep\u001b[0m\u001b[0;34m)\u001b[0m\u001b[0;34m\u001b[0m\u001b[0;34m\u001b[0m\u001b[0m\n\u001b[1;32m      9\u001b[0m     \u001b[0mprint\u001b[0m\u001b[0;34m(\u001b[0m\u001b[0mx_range\u001b[0m\u001b[0;34m.\u001b[0m\u001b[0mshape\u001b[0m\u001b[0;34m)\u001b[0m\u001b[0;34m\u001b[0m\u001b[0;34m\u001b[0m\u001b[0m\n\u001b[0;32m---> 10\u001b[0;31m     \u001b[0my\u001b[0m \u001b[0;34m=\u001b[0m \u001b[0mBVP\u001b[0m\u001b[0;34m(\u001b[0m\u001b[0mx0\u001b[0m\u001b[0;34m,\u001b[0m \u001b[0mxn\u001b[0m\u001b[0;34m,\u001b[0m \u001b[0mstep\u001b[0m\u001b[0;34m)\u001b[0m\u001b[0;34m\u001b[0m\u001b[0;34m\u001b[0m\u001b[0m\n\u001b[0m\u001b[1;32m     11\u001b[0m \u001b[0;34m\u001b[0m\u001b[0m\n\u001b[1;32m     12\u001b[0m     \u001b[0my\u001b[0m \u001b[0;34m=\u001b[0m \u001b[0mnp\u001b[0m\u001b[0;34m.\u001b[0m\u001b[0mappend\u001b[0m\u001b[0;34m(\u001b[0m\u001b[0;36m0\u001b[0m\u001b[0;34m,\u001b[0m \u001b[0my\u001b[0m\u001b[0;34m)\u001b[0m\u001b[0;34m\u001b[0m\u001b[0;34m\u001b[0m\u001b[0m\n",
      "\u001b[0;32m<ipython-input-47-c577432f3897>\u001b[0m in \u001b[0;36mBVP\u001b[0;34m(x0, xn, h)\u001b[0m\n\u001b[1;32m     17\u001b[0m     \u001b[0mprint\u001b[0m\u001b[0;34m(\u001b[0m\u001b[0my\u001b[0m\u001b[0;34m)\u001b[0m\u001b[0;34m\u001b[0m\u001b[0;34m\u001b[0m\u001b[0m\n\u001b[1;32m     18\u001b[0m     \u001b[0my\u001b[0m \u001b[0;34m=\u001b[0m \u001b[0mnp\u001b[0m\u001b[0;34m.\u001b[0m\u001b[0mreshape\u001b[0m\u001b[0;34m(\u001b[0m\u001b[0my\u001b[0m\u001b[0;34m,\u001b[0m \u001b[0mn\u001b[0m\u001b[0;34m-\u001b[0m\u001b[0;36m1\u001b[0m\u001b[0;34m)\u001b[0m\u001b[0;34m\u001b[0m\u001b[0;34m\u001b[0m\u001b[0m\n\u001b[0;32m---> 19\u001b[0;31m     \u001b[0my\u001b[0m\u001b[0;34m.\u001b[0m\u001b[0mappend\u001b[0m\u001b[0;34m(\u001b[0m\u001b[0;34m(\u001b[0m\u001b[0;36m1\u001b[0m\u001b[0;34m/\u001b[0m\u001b[0mh\u001b[0m \u001b[0;34m-\u001b[0m \u001b[0;36m1\u001b[0m\u001b[0;34m/\u001b[0m\u001b[0mh\u001b[0m\u001b[0;34m**\u001b[0m\u001b[0;36m2\u001b[0m \u001b[0;34m+\u001b[0m \u001b[0;36m4\u001b[0m\u001b[0;34m/\u001b[0m\u001b[0mh\u001b[0m \u001b[0;34m-\u001b[0m \u001b[0;36m3\u001b[0m\u001b[0;34m*\u001b[0m\u001b[0mX\u001b[0m\u001b[0;34m[\u001b[0m\u001b[0;36m1\u001b[0m\u001b[0;34m,\u001b[0m \u001b[0mn\u001b[0m\u001b[0;34m-\u001b[0m\u001b[0;36m1\u001b[0m\u001b[0;34m]\u001b[0m\u001b[0;34m/\u001b[0m\u001b[0mh\u001b[0m\u001b[0;34m**\u001b[0m\u001b[0;36m2\u001b[0m\u001b[0;34m)\u001b[0m\u001b[0;34m/\u001b[0m\u001b[0;36m6\u001b[0m\u001b[0;34m)\u001b[0m\u001b[0;34m\u001b[0m\u001b[0;34m\u001b[0m\u001b[0m\n\u001b[0m\u001b[1;32m     20\u001b[0m \u001b[0;31m#     print(A)\u001b[0m\u001b[0;34m\u001b[0m\u001b[0;34m\u001b[0m\u001b[0;34m\u001b[0m\u001b[0m\n\u001b[1;32m     21\u001b[0m \u001b[0;31m#     print(B)\u001b[0m\u001b[0;34m\u001b[0m\u001b[0;34m\u001b[0m\u001b[0;34m\u001b[0m\u001b[0m\n",
      "\u001b[0;31mAttributeError\u001b[0m: 'numpy.ndarray' object has no attribute 'append'"
     ]
    }
   ],
   "source": [
    "def func(x0, xn, h = 0.1):\n",
    "    return np.arange(x0, xn, h)\n",
    "steps = [0.1, 0.05, 0.02]\n",
    "colors = ['r', 'g+', 'b*']\n",
    "x0 = 0\n",
    "xn = 1\n",
    "for step in steps: \n",
    "    x_range = func(x0, xn, step)\n",
    "    print(x_range.shape)\n",
    "    y = BVP(x0, xn, step)\n",
    "\n",
    "    y = np.append(0, y)\n",
    "    print(y.shape)\n",
    "    plt.xlabel('X')\n",
    "    plt.ylabel('Y')\n",
    "    i = steps.index(step)\n",
    "    plt.plot( x_range, y, colors[i])\n",
    "    plt.savefig(\"Plot.png\")\n"
   ]
  },
  {
   "cell_type": "code",
   "execution_count": 27,
   "metadata": {},
   "outputs": [
    {
     "data": {
      "text/plain": [
       "<Figure size 720x1080 with 0 Axes>"
      ]
     },
     "metadata": {},
     "output_type": "display_data"
    }
   ],
   "source": []
  },
  {
   "cell_type": "code",
   "execution_count": null,
   "metadata": {},
   "outputs": [],
   "source": []
  }
 ],
 "metadata": {
  "kernelspec": {
   "display_name": "Python 3",
   "language": "python",
   "name": "python3"
  },
  "language_info": {
   "codemirror_mode": {
    "name": "ipython",
    "version": 3
   },
   "file_extension": ".py",
   "mimetype": "text/x-python",
   "name": "python",
   "nbconvert_exporter": "python",
   "pygments_lexer": "ipython3",
   "version": "3.6.7"
  }
 },
 "nbformat": 4,
 "nbformat_minor": 2
}
