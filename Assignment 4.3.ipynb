{
 "cells": [
  {
   "cell_type": "markdown",
   "metadata": {},
   "source": [
    "Find the solution to ODE \n",
    "$$f''' + ff'' + 1 - (f')^2 = 0$$\n",
    "And the boundary conditions are\n",
    "$$f_0 = f(0) = 0 = f'_0 = f'(0)$$\n",
    "$$f'_{n} = f'(10) = 1$$\n",
    "To simplify our calculations we take  $ f' = F$\n",
    "\n",
    "Now our equations become \n",
    "$$f_0 = f(0) = 0 = F_0 = F(0)$$\n",
    "$$F_{n} = F(10) = 1$$\n",
    "\n",
    "And we solve for the equation with \n",
    "$$ X_{i} = \\begin{bmatrix}\n",
    "   f_{i} \\\\  F_{i} \\\\\n",
    "   \\end{bmatrix}\n",
    "  $$"
   ]
  },
  {
   "cell_type": "code",
   "execution_count": 3,
   "metadata": {},
   "outputs": [],
   "source": [
    "import matplotlib.pyplot as plt\n",
    "import numpy as np\n",
    "import pandas as pd\n",
    "%matplotlib inline\n",
    "\n",
    "plt.rcParams['figure.figsize'] = [10, 15]"
   ]
  },
  {
   "cell_type": "code",
   "execution_count": 4,
   "metadata": {},
   "outputs": [],
   "source": [
    "def BlockTridiagonal(A, B, C, D):\n",
    "    n = len(D)\n",
    "    _B = np.zeros((n, 2, 2))\n",
    "    _C = np.zeros(A.shape)\n",
    "    _D = np.zeros((n,2,1))\n",
    "    D_out = np.zeros(_D.shape)\n",
    "    _C[0] = np.linalg.inv(B[0]).dot(C[0])\n",
    "    _D[0] = np.linalg.inv(B[0]).dot(D[0])\n",
    "    for i in range(1, n-1):\n",
    "        _B[i] = B[i] - A[i-1].dot(_C[i-1])\n",
    "        _C[i] = np.linalg.inv(_B[i]).dot(C[i])\n",
    "        _D[i] = np.linalg.inv(_B[i]).dot(D[i] - A[i-1].dot(_D[i-1]))\n",
    "    _D[n-1] = np.linalg.inv(B[n-1] - A[n-2].dot(_C[n-2])).dot(D[n-1] - A[n-2].dot(_D[n-2]))\n",
    "    D_out[n-1] = np.copy(_D[n-1])\n",
    "    for i in range(n-2, -1, -1):\n",
    "        D_out[i] = _D[i] - _C[i].dot(D_out[i+1])\n",
    "    \n",
    "    return D_out"
   ]
  },
  {
   "cell_type": "code",
   "execution_count": 13,
   "metadata": {},
   "outputs": [],
   "source": [
    "def BVP(x0, xn, h, epsilon = 0.001):\n",
    "    n = int(np.ceil((xn - x0)/h)+1)\n",
    "    print(n)\n",
    "    A = np.zeros((n-2, 2, 2))\n",
    "    B = np.zeros((n-1, 2, 2))\n",
    "    C = np.zeros((n-2, 2, 2))\n",
    "    D = np.zeros((n-1, 2, 1))\n",
    "    f = np.zeros(n)\n",
    "    F = np.zeros(n)\n",
    "    F[n-1] = 1\n",
    "    f[n-1] = h/2\n",
    "    Solution = np.stack((f, F))\n",
    "    print(\"Solution Shape\", Solution.shape)\n",
    "    count = 0\n",
    "    delta_X = np.ones(Solution.shape)\n",
    "    while(np.amax(np.absolute(delta_X))>epsilon):\n",
    "        print(\"Iteration : \", count+1)\n",
    "        B[0] = np.array([[1, -h/2],\n",
    "                         [(Solution[1][2] - Solution[1][0])/(2*h), -2/h**2 - 2*Solution[1][1] ]])\n",
    "        C[0] = np.array([[0, 0],\n",
    "                         [0, 1/h**2 + Solution[0][1]/(2*h)]])\n",
    "        A[n-3] = np.array([[-1, -h/2], \n",
    "                             [0, 1/h**2 - Solution[0][-2]/2*h]])\n",
    "        B[n-2] = np.array([[1, -h/2], \n",
    "                             [(Solution[-1][-1] - Solution[1][-3])/2*h, -2/h**2 - 2*Solution[1][-2]]])\n",
    "        D[0] = np.array([[-Solution[0][1] + Solution[0][0] + h*(Solution[1][1] + Solution[1][0])/2],\n",
    "                             [Solution[1][1]**2 - 1 - Solution[0][1]*(Solution[1][2] - Solution[1][0])/2*h - (Solution[1][0] + Solution[1][2] -2*Solution[1][1])/h**2]])\n",
    "        D[n-2] = np.array([[-Solution[0][-2] + Solution[0][-3] + h*(Solution[1][-2] + Solution[1][-3])/2],\n",
    "                             [Solution[1][-2]**2 - 1 - Solution[0][-2]*(Solution[1][-1] - Solution[1][-3])/2*h - (Solution[1][-3] + Solution[1][-1] -2*Solution[1][-2])/h**2]])\n",
    "        \n",
    "        for i in range(1, n-2):\n",
    "            A[i-1] = np.array([[-1, -h/2], \n",
    "                             [0, 1/h**2 - Solution[0][i]/2*h]])\n",
    "            B[i] = np.array([[1, -h/2], \n",
    "                             [(Solution[1][i+2] - Solution[1][i])/2*h, -2/h**2 - 2*Solution[1][i+1]]])\n",
    "            C[i] = np.array([[0, 0], \n",
    "                             [0, 1/h**2 + Solution[0][i+1]/2*h]])\n",
    "            D[i] = np.array([[-Solution[0][i+1] + Solution[0][i] + h*(Solution[1][i+1] + Solution[1][i])/2],\n",
    "                             [Solution[1][i+1]**2 - 1 - Solution[0][i+1]*(Solution[1][i+2] - Solution[1][i])/2*h - (Solution[1][i] + Solution[1][i+2] -2*Solution[1][i+1])/h**2]])\n",
    "        print(delta_X.shape)\n",
    "        delta_X = np.reshape(BlockTridiagonal(A, B, C, D), (n-1, 2)).T\n",
    "        print(delt)\n",
    "        b = np.array([[0],[0]])\n",
    "        delta_X = np.concatenate([b, delta_X], axis=1)\n",
    "\n",
    "        delta_X[1][-1] = 0\n",
    "        delta_X[0][-1] = delta_X[0][-2] + h*(delta_X[1][-1] + delta_X[1][-2])/2\n",
    "        Solution = Solution + delta_X\n",
    "#         print(Solution)\n",
    "        count+= 1\n",
    "    \n",
    "    print(Solution)\n",
    "    return Solution[0, :]"
   ]
  },
  {
   "cell_type": "code",
   "execution_count": 17,
   "metadata": {},
   "outputs": [
    {
     "name": "stdout",
     "output_type": "stream",
     "text": [
      "26\n",
      "Solution Shape (2, 26)\n",
      "Iteration :  1\n",
      "(2, 26)\n",
      "(2, 25)\n",
      "Iteration :  2\n",
      "(2, 26)\n",
      "(2, 25)\n",
      "Iteration :  3\n",
      "(2, 26)\n",
      "(2, 25)\n",
      "Iteration :  4\n",
      "(2, 26)\n",
      "(2, 25)\n",
      "Iteration :  5\n",
      "(2, 26)\n",
      "(2, 25)\n",
      "Iteration :  6\n",
      "(2, 26)\n",
      "(2, 25)\n",
      "Iteration :  7\n",
      "(2, 26)\n",
      "(2, 25)\n",
      "Iteration :  8\n",
      "(2, 26)\n",
      "(2, 25)\n",
      "[[0.         0.0778352  0.28386767 0.5710348  0.90707113 1.2715566\n",
      "  1.65219039 2.04180576 2.4363298  2.83349484 3.23206186 3.63136698\n",
      "  4.0310631  4.43097615 4.83102695 5.2311905  5.63147613 6.03191984\n",
      "  6.43258376 6.83356083 7.23498349 7.63703658 8.03997465 8.44414467\n",
      "  8.85001456 9.25344153]\n",
      " [0.         0.38917601 0.64098632 0.79484935 0.88533228 0.93709507\n",
      "  0.96607386 0.98200303 0.99061717 0.99520803 0.99762706 0.99889849\n",
      "  0.99958214 0.99998309 1.00027093 1.00054681 1.00088139 1.00133712\n",
      "  1.00198248 1.00290286 1.00421047 1.00605494 1.00863542 1.01221466\n",
      "  1.01713482 1.        ]]\n"
     ]
    }
   ],
   "source": [
    "def func(x0, xn, h = 0.1):\n",
    "    lst = np.arange(x0, xn, h)\n",
    "    lst = np.append(lst, xn)\n",
    "    return lst\n",
    "x0 = 0\n",
    "xn = 10\n",
    "x = func(x0, xn, h = 0.4)\n",
    "solution = BVP(x0, xn, h=0.4, epsilon=0.05)"
   ]
  },
  {
   "cell_type": "code",
   "execution_count": 18,
   "metadata": {},
   "outputs": [
    {
     "data": {
      "text/plain": [
       "[<matplotlib.lines.Line2D at 0x11dcb79e8>]"
      ]
     },
     "execution_count": 18,
     "metadata": {},
     "output_type": "execute_result"
    },
    {
     "data": {
      "image/png": "[encoded data removed]",
      "text/plain": [
       "<Figure size 720x1080 with 1 Axes>"
      ]
     },
     "metadata": {
      "needs_background": "light"
     },
     "output_type": "display_data"
    }
   ],
   "source": [
    "plt.plot(x, solution, '.-')"
   ]
  },
  {
   "cell_type": "code",
   "execution_count": null,
   "metadata": {},
   "outputs": [],
   "source": []
  }
 ],
 "metadata": {
  "kernelspec": {
   "display_name": "Python 3",
   "language": "python",
   "name": "python3"
  },
  "language_info": {
   "codemirror_mode": {
    "name": "ipython",
    "version": 3
   },
   "file_extension": ".py",
   "mimetype": "text/x-python",
   "name": "python",
   "nbconvert_exporter": "python",
   "pygments_lexer": "ipython3",
   "version": "3.6.7"
  }
 },
 "nbformat": 4,
 "nbformat_minor": 2
}
